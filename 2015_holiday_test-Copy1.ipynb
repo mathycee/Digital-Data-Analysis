{
 "cells": [
  {
   "cell_type": "code",
   "execution_count": 2,
   "metadata": {
    "collapsed": true
   },
   "outputs": [],
   "source": [
    "from collections import Counter, defaultdict\n",
    "from datetime import date, timedelta\n",
    "import pandas as pd"
   ]
  },
  {
   "cell_type": "code",
   "execution_count": 3,
   "metadata": {
    "collapsed": false
   },
   "outputs": [],
   "source": [
    "start_date = 20150830 #Sun #actual start_date = 20150902\n",
    "end_date = 20160109 #Sat #actual end_date = 20151231"
   ]
  },
  {
   "cell_type": "code",
   "execution_count": 4,
   "metadata": {
    "collapsed": false,
    "scrolled": false
   },
   "outputs": [
    {
     "name": "stdout",
     "output_type": "stream",
     "text": [
      "Number of days: 19\n"
     ]
    },
    {
     "data": {
      "text/plain": [
       "['20150830',\n",
       " '20150906',\n",
       " '20150913',\n",
       " '20150920',\n",
       " '20150927',\n",
       " '20151004',\n",
       " '20151011',\n",
       " '20151018',\n",
       " '20151025',\n",
       " '20151101',\n",
       " '20151108',\n",
       " '20151115',\n",
       " '20151122',\n",
       " '20151129',\n",
       " '20151206',\n",
       " '20151213',\n",
       " '20151220',\n",
       " '20151227',\n",
       " '20160103']"
      ]
     },
     "execution_count": 4,
     "metadata": {},
     "output_type": "execute_result"
    }
   ],
   "source": [
    "#make a list of all Sundays within analysis time period\n",
    "sundays = []\n",
    "s = date(int(str(start_date)[:4]),int(str(start_date)[4:6]),int(str(start_date)[6:8]))\n",
    "s_end = date(int(str(end_date)[:4]),int(str(end_date)[4:6]),int(str(end_date)[6:8]))\n",
    "while s <= s_end:        \n",
    "    sundays.append(s.strftime(\"%Y%m%d\"))\n",
    "    s += timedelta(days = 7)\n",
    "    \n",
    "print \"Number of days: {}\".format(len(sundays))\n",
    "sundays"
   ]
  },
  {
   "cell_type": "code",
   "execution_count": 22,
   "metadata": {
    "collapsed": false,
    "scrolled": true
   },
   "outputs": [],
   "source": [
    "#SID|first tp date|first tp type|weekly touchpoint count|\n",
    "pre_holiday_purchase = defaultdict(set)\n",
    "holiday_multi_purc = defaultdict(set)\n",
    "past_sid = None\n",
    "first_tp = {}\n",
    "weekly_tp = Counter()\n",
    "with open(\"holiday_purchasers_20150902_20151231.txt\", 'r') as fh:\n",
    "    for line in fh:\n",
    "        v = line.strip().split(\"|\")\n",
    "        current_sid = v[0]\n",
    "        timestamp = v[1]\n",
    "        lines = [2]\n",
    "        event_type = v[3]\n",
    "        \n",
    "        #first touchpoint date and type\n",
    "        if current_sid <> past_sid:\n",
    "            first_tp[current_sid] = timestamp[:8] + \"|\" + event_type\n",
    "        past_sid = current_sid\n",
    "        \n",
    "        if event_type in [\"E\", \"P\"]: \n",
    "            #purchase prior to 20151127\n",
    "            if int(timestamp[:8]) < 20151127:\n",
    "                    pre_holiday_purchase[current_sid].add(timestamp)\n",
    "            #purchase from 20151127 - 20151231\n",
    "            else:\n",
    "                holiday_multi_purc[current_sid].add(timestamp)\n",
    "        #weekly touchpoint count\n",
    "        elif event_type not in [\"E\", \"P\"] :\n",
    "            for i in range(len(sundays)-1):\n",
    "                if int(sundays[i]) <= int(timestamp[:8]) < int(sundays[i+1]):\n",
    "                    weekly_tp[current_sid + \"|\" + sundays[i]] += 1\n",
    "        else:\n",
    "            print line.strip()"
   ]
  },
  {
   "cell_type": "code",
   "execution_count": 14,
   "metadata": {
    "collapsed": false,
    "scrolled": true
   },
   "outputs": [],
   "source": [
    "# output weekly touchpoint count in long form\n",
    "fh_out = open(\"tmp_out.txt\", 'w')\n",
    "for i in weekly_tp:\n",
    "    print >> fh_out, \"{}|{}\".format(i,weekly_tp[i])\n",
    "fh_out.close()    "
   ]
  },
  {
   "cell_type": "code",
   "execution_count": 15,
   "metadata": {
    "collapsed": false
   },
   "outputs": [
    {
     "data": {
      "text/html": [
       "<div>\n",
       "<table border=\"1\" class=\"dataframe\">\n",
       "  <thead>\n",
       "    <tr style=\"text-align: right;\">\n",
       "      <th></th>\n",
       "      <th>0</th>\n",
       "      <th>1</th>\n",
       "      <th>2</th>\n",
       "    </tr>\n",
       "  </thead>\n",
       "  <tbody>\n",
       "    <tr>\n",
       "      <th>0</th>\n",
       "      <td>1030335361</td>\n",
       "      <td>20151122</td>\n",
       "      <td>37</td>\n",
       "    </tr>\n",
       "    <tr>\n",
       "      <th>1</th>\n",
       "      <td>372274566</td>\n",
       "      <td>20151122</td>\n",
       "      <td>4</td>\n",
       "    </tr>\n",
       "    <tr>\n",
       "      <th>2</th>\n",
       "      <td>1007287625</td>\n",
       "      <td>20151108</td>\n",
       "      <td>2</td>\n",
       "    </tr>\n",
       "    <tr>\n",
       "      <th>3</th>\n",
       "      <td>1030335361</td>\n",
       "      <td>20151129</td>\n",
       "      <td>21</td>\n",
       "    </tr>\n",
       "    <tr>\n",
       "      <th>4</th>\n",
       "      <td>1875504932</td>\n",
       "      <td>20151129</td>\n",
       "      <td>1</td>\n",
       "    </tr>\n",
       "  </tbody>\n",
       "</table>\n",
       "</div>"
      ],
      "text/plain": [
       "            0         1   2\n",
       "0  1030335361  20151122  37\n",
       "1   372274566  20151122   4\n",
       "2  1007287625  20151108   2\n",
       "3  1030335361  20151129  21\n",
       "4  1875504932  20151129   1"
      ]
     },
     "execution_count": 15,
     "metadata": {},
     "output_type": "execute_result"
    }
   ],
   "source": [
    "# reshape weekly touchpoint count - long to wide\n",
    "df = pd.read_csv(\"tmp_out.txt\", delimiter = \"|\", header = None)\n",
    "df.head()"
   ]
  },
  {
   "cell_type": "code",
   "execution_count": 16,
   "metadata": {
    "collapsed": false
   },
   "outputs": [],
   "source": [
    "# weekly touchpoint count in wide form\n",
    "df_wide = df.pivot(index = 0, columns = 1, values = 2)\n",
    "df_wide.to_csv(\"wide_tmp_out.txt\",delimiter = '|,',index = True)"
   ]
  },
  {
   "cell_type": "code",
   "execution_count": 23,
   "metadata": {
    "collapsed": false,
    "scrolled": true
   },
   "outputs": [],
   "source": [
    "fh_out = open(\"tmp_out_2.txt\",'w')\n",
    "for i in first_tp:\n",
    "    if i in pre_holiday_purchase:\n",
    "        pre_holiday_purchase_cnt = len(pre_holiday_purchase[i])\n",
    "    else:\n",
    "        pre_holiday_purchase_cnt = 0\n",
    "    if i in holiday_multi_purc:\n",
    "        holiday_multi_purc_cnt = len(holiday_multi_purc[i])\n",
    "    else:\n",
    "        holiday_multi_purc_cnt = 0\n",
    "    print >> fh_out, \"{}|{}|{}|{}\".format(i, first_tp[i],pre_holiday_purchase_cnt,holiday_multi_purc_cnt)\n",
    "fh_out.close()    "
   ]
  },
  {
   "cell_type": "code",
   "execution_count": null,
   "metadata": {
    "collapsed": true
   },
   "outputs": [],
   "source": []
  }
 ],
 "metadata": {
  "kernelspec": {
   "display_name": "Python 2",
   "language": "python",
   "name": "python2"
  },
  "language_info": {
   "codemirror_mode": {
    "name": "ipython",
    "version": 2
   },
   "file_extension": ".py",
   "mimetype": "text/x-python",
   "name": "python",
   "nbconvert_exporter": "python",
   "pygments_lexer": "ipython2",
   "version": "2.7.11"
  }
 },
 "nbformat": 4,
 "nbformat_minor": 0
}
