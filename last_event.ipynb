{
 "cells": [
  {
   "cell_type": "code",
   "execution_count": 1,
   "metadata": {
    "collapsed": false
   },
   "outputs": [
    {
     "name": "stdout",
     "output_type": "stream",
     "text": [
      "000000fe-ab90-4903-b435-a522920f7193|20150930184300|000000fe-ab90-4903-b435-a522920f7193||B|MS|BRD|K\n",
      "000002e5-64e6-4c2f-ae8a-dd93bdb60bcf|20151217143100|000002e5-64e6-4c2f-ae8a-dd93bdb60bcf||B|GC|BRD|K\n",
      "00003ceb-24dd-46f1-9a9b-23ac6b093aeb|20151231023442|AMsySZaTMmgFU0uoa4Lil7as49M4||I|AC|RTG|E\n",
      "00004150-3fe6-4ae8-c292-00005cad6560|20151221192005|AMsySZa1r91UftNc0paDodORUpl0||I|RF|PRG|A\n",
      "0000616d-893b-4ce4-9590-181a88172787|20151231134922|AMsySZZZDzLuKJUbSG-FprchwikQ||I|IQ|PRG|A\n",
      "00007dfe-007b-44e4-bb0f-e8f8b47bba33|20150928151900|00007dfe-007b-44e4-bb0f-e8f8b47bba33||B|MS|BRD|K\n",
      "00009d10-5210-48c7-b361-dc8c33ee65c4|20151221083200|00009d10-5210-48c7-b361-dc8c33ee65c4||B|GC|BRD|K\n",
      "0000a6e8-44f5-4832-bb31-39fd2afb0fe8|20151231110615|AMsySZYGW_KLXhCXrxJzyYRdqHFs||I|IQ|PRG|A\n",
      "0000ac89-8e74-44b5-983b-f7aad1d383d0|20151216202556|AMsySZYR3wLsAdkrNSy0qRiGPyeX||I|AC|RTG|E\n",
      "0000b484-1264-4e46-bbc5-cdd0a6dec29b|20151127132400|0000b484-1264-4e46-bbc5-cdd0a6dec29b||B|GC|BRD|K\n",
      "0000c542-4bfb-42b9-b0c4-ef36dc7d297d|20151030071200|0000c542-4bfb-42b9-b0c4-ef36dc7d297d||B|YG|BRD|K\n",
      "0000e0d5-74da-40c4-be2b-0f7b362abefd|20151214205300|0000e0d5-74da-40c4-be2b-0f7b362abefd||B|MS|BRD|K\n",
      "0000fc4b-2032-4f4c-ac84-94da2190089a|20151019091523|AMsySZY4tpAvTnCbrnFBHVtS34Ur||I|AD|PRG|A\n",
      "00010826-dfba-47ef-89bf-17fd23192b40|20151224232000|00010826-dfba-47ef-89bf-17fd23192b40||B|GC|BRD|K\n",
      "00013419-46b1-4e63-a763-bf359a4aca84|20151005193800|306307911|2|P|||\n",
      "00014815-348b-4566-916d-1baa51de2ea8|20151227165758|AMsySZZEG8N1_zGdbDTC_xJjKihQ||I|TF|BEH|A\n",
      "00014ba1-7d15-4dd0-a9e4-535d0b2f3fa6|20151231144938|AMsySZbdUKoA5tn2PV4PqsVoQ0pc||I|IQ|PRG|A\n",
      "0001741e-e5ed-8769-7adf-00007b74cf79|20151111104900|0001741e-e5ed-8769-7adf-00007b74cf79||U|GC|PLA|K\n",
      "00018d2b-0a06-453a-81f5-5519538494f6|20151012145515|AMsySZZYF7K0jzYysyChvwX8XAzk||I|RF|PRG|A\n",
      "000199d6-7f52-4899-96d5-f11c7bd593b5|20151228101541|AMsySZbl1sSirKZQkdnWdYMWfOk0||I|RO|PRG|A\n",
      "0001a526-42bc-4091-bfa8-69a238f02f52|20151213163900|0001a526-42bc-4091-bfa8-69a238f02f52||B|GC|BRD|K\n",
      "0001a6ed-892a-21a8-032e-00004689a145|20150902085037|AMsySZbMkQdVRkT7YgUIdH3kN-L1||I|YH|PRG|A\n"
     ]
    }
   ],
   "source": [
    "# Last event for each ID\n",
    "prev_line = \"\"\n",
    "with open(\"test_in.txt\", 'r') as fh:\n",
    "    prev_line = fh.readline()\n",
    "    past_sid = prev_line.strip().split(\"|\",1)[0]\n",
    "    for line in fh:\n",
    "        v = line.strip().split(\"|\")\n",
    "        current_sid = v[0]\n",
    "        if current_sid <> past_sid:\n",
    "            print prev_line.strip()\n",
    "        prev_line = line.strip()\n",
    "        past_sid = current_sid\n",
    "print line.strip()"
   ]
  }
 ],
 "metadata": {
  "kernelspec": {
   "display_name": "Python 2",
   "language": "python",
   "name": "python2"
  },
  "language_info": {
   "codemirror_mode": {
    "name": "ipython",
    "version": 2
   },
   "file_extension": ".py",
   "mimetype": "text/x-python",
   "name": "python",
   "nbconvert_exporter": "python",
   "pygments_lexer": "ipython2",
   "version": "2.7.11"
  }
 },
 "nbformat": 4,
 "nbformat_minor": 0
}
