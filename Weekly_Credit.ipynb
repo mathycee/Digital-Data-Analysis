{
 "cells": [
  {
   "cell_type": "code",
   "execution_count": null,
   "metadata": {
    "collapsed": true
   },
   "outputs": [],
   "source": [
    "#The purpose of this script is to generate weekly FCV by campaign_type|publisher|tactic from fc_final file\n",
    "#input:fc_final.txt(sid|timestamp|conv_event_flag|event_type|pub|tactic|campaign_type|pp|fc|volume|fc_volume|gross_px|net_px|sid0)\n",
    "#output: weekly_FCV.txt\n",
    "#Xiaomeng Chai 20160421"
   ]
  },
  {
   "cell_type": "code",
   "execution_count": 14,
   "metadata": {
    "collapsed": true
   },
   "outputs": [],
   "source": [
    "from datetime import date, timedelta"
   ]
  },
  {
   "cell_type": "code",
   "execution_count": null,
   "metadata": {
    "collapsed": true
   },
   "outputs": [],
   "source": [
    "start_saturday = 20160102\n",
    "end_saturday = 20160319"
   ]
  },
  {
   "cell_type": "code",
   "execution_count": 3,
   "metadata": {
    "collapsed": true
   },
   "outputs": [],
   "source": [
    "class D_simple (dict):\n",
    "\tdef __init__(self, default=None):\n",
    "\t\tself.default = default\n",
    "\tdef __getitem__(self,key):\n",
    "\t\tif not self.has_key(key):\n",
    "\t\t\tself[key] = 0.00\n",
    "\t\treturn dict.__getitem__(self,key)"
   ]
  },
  {
   "cell_type": "code",
   "execution_count": 1,
   "metadata": {
    "collapsed": true
   },
   "outputs": [],
   "source": [
    "fn_in = \"C:\\\\Users\\\\xiachai\\\\Desktop\\\\KF\\\\fc_final.txt\"\n",
    "fn_out = \"C:\\\\Users\\\\xiachai\\\\Desktop\\\\KF\\\\weekly_FCV.txt\""
   ]
  },
  {
   "cell_type": "code",
   "execution_count": 126,
   "metadata": {
    "collapsed": false
   },
   "outputs": [
    {
     "data": {
      "text/plain": [
       "['20160102',\n",
       " '20160109',\n",
       " '20160116',\n",
       " '20160123',\n",
       " '20160130',\n",
       " '20160206',\n",
       " '20160213',\n",
       " '20160220',\n",
       " '20160227',\n",
       " '20160305',\n",
       " '20160312',\n",
       " '20160319']"
      ]
     },
     "execution_count": 126,
     "metadata": {},
     "output_type": "execute_result"
    }
   ],
   "source": [
    "#make a list of all Saturdays within analysis time period\n",
    "saturdays = []\n",
    "sat_list = []\n",
    "s = date(int(str(start_saturday)[:4]),int(str(start_saturday)[4:6]),int(str(start_saturday)[6:8]))\n",
    "s_end = date(int(str(end_saturday)[:4]),int(str(end_saturday)[4:6]),int(str(end_saturday)[6:8]))\n",
    "while s <= s_end:        \n",
    "    saturdays.append(s)\n",
    "    s += timedelta(days = 7)\n",
    "    \n",
    "for d in sorted(saturdays):\n",
    "    sat_list.append(d.strftime(\"%Y%m%d\"))\n",
    "    \n",
    "sat_list "
   ]
  },
  {
   "cell_type": "code",
   "execution_count": 153,
   "metadata": {
    "collapsed": false,
    "scrolled": true
   },
   "outputs": [
    {
     "name": "stdout",
     "output_type": "stream",
     "text": [
      "20160109|--|146582.075021\n",
      "20160116|--|167135.522478\n",
      "20160123|--|153465.660784\n",
      "20160123|M-MC-PRD|0.0\n",
      "20160130|--|153137.001322\n",
      "20160130|B-T1-BEH|10.892147\n",
      "20160130|B-T1-CTX|0.0\n",
      "20160130|B-T1-DEM|55.627593\n",
      "20160130|B-T1-FSP|8.404452\n",
      "20160130|B-T1-KRC|0.0\n",
      "20160130|B-T1-LYL|11.601523\n",
      "20160130|B-T1-SWT|0.0\n",
      "20160130|M-MC-PRD|0.0\n",
      "20160130|V-TL-PRD|257.222496\n",
      "20160130|Y-TL-PRD|0.0\n",
      "20160206|--|277513.052042\n",
      "20160206|B-T1-BEH|9.517499\n",
      "20160206|B-T1-CTX|0.0\n",
      "20160206|B-T1-DEM|48.688014\n",
      "20160206|B-T1-FSP|11.856705\n",
      "20160206|B-T1-KRC|0.0\n",
      "20160206|B-T1-LYL|22.079295\n",
      "20160206|B-T1-SWT|0.0\n",
      "20160206|M-MC-PRD|14.516349\n",
      "20160206|V-TL-PRD|173.91615\n",
      "20160206|Y-TL-PRD|0.0\n"
     ]
    }
   ],
   "source": [
    "credit = D_simple(dict)\n",
    "f_out = open(fn_out,'w')\n",
    "\n",
    "for n in range(5):\n",
    "    credit.clear()\n",
    "    with open(fn_in,'r') as fh:\n",
    "        for line in fh.readlines()[1:]:\n",
    "            v = line.strip().split('|')\n",
    "            timestamp = v[1]        \n",
    "            pub = v[4]\n",
    "            tactic = v[5]\n",
    "            campaign_type = v[6]\n",
    "            \n",
    "            #ignore Adconion, Dart Search:Google/MSN/YAHOO for now. 20160421\n",
    "            if pub in ['AG','DG','DM','DY']:\n",
    "                continue \n",
    "                \n",
    "            cpt = campaign_type + '-' + pub + '-' + tactic\n",
    "            fc_volume = float(v[10])\n",
    "\n",
    "            if int(timestamp[:8]) > int(sat_list[n]) and int(timestamp[:8]) <= int(sat_list[n+1]): \n",
    "                credit[cpt] += fc_volume\n",
    "                \n",
    "        for key in sorted(credit):\n",
    "            print '%s|%s|%s' %(sat_list[n+1],key,credit[key])\n",
    "            print >> f_out, '%s|%s|%s' %(sat_list[n+1],key,credit[key])\n",
    "            \n",
    "f_out.close()"
   ]
  }
 ],
 "metadata": {
  "kernelspec": {
   "display_name": "Python 2",
   "language": "python",
   "name": "python2"
  },
  "language_info": {
   "codemirror_mode": {
    "name": "ipython",
    "version": 2
   },
   "file_extension": ".py",
   "mimetype": "text/x-python",
   "name": "python",
   "nbconvert_exporter": "python",
   "pygments_lexer": "ipython2",
   "version": "2.7.11"
  }
 },
 "nbformat": 4,
 "nbformat_minor": 0
}
