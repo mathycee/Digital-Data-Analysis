{
 "cells": [
  {
   "cell_type": "code",
   "execution_count": 1,
   "metadata": {
    "collapsed": true
   },
   "outputs": [],
   "source": [
    "#load packages\n",
    "import pandas as pd\n",
    "import numpy as np\n",
    "from collections import defaultdict"
   ]
  },
  {
   "cell_type": "code",
   "execution_count": 12,
   "metadata": {
    "collapsed": false
   },
   "outputs": [],
   "source": [
    "#exclude records with special event flags\n",
    "fn_in1 = open(\"C:/Users/xiachai/Desktop/KF/event_file.txt\", 'r')\n",
    "fn_out1 = open(\"C:/Users/xiachai/Desktop/KF/noXJ.txt\", 'w')\n",
    "\n",
    "for line in fn_in1.readlines():\n",
    "    v = line.strip().split('|')\n",
    "    if v[3] != \"X\" and v[3] != \"J\":\n",
    "        print >> fn_out1, '%s' % ('|'.join(v[s] for s in range(7)))\n",
    "        \n",
    "fn_in1.close()\n",
    "fn_out1.close()"
   ]
  },
  {
   "cell_type": "code",
   "execution_count": 10,
   "metadata": {
    "collapsed": false
   },
   "outputs": [],
   "source": [
    "#exclude conversion only records (optional) \n",
    "fn_out2 = open(\"C:/Users/xiachai/Desktop/KF/event_file_time.txt\", 'w')\n",
    "\n",
    "d = defaultdict(int)\n",
    "conv_only = set([])\n",
    "\n",
    "with open(\"C:/Users/xiachai/Desktop/KF/noXJ.txt\", 'r') as fn_in2:\n",
    "    for line in fn_in2.readlines():\n",
    "        v = line.strip().split('|')    \n",
    "\n",
    "        d[v[0]] += 1\n",
    "    \n",
    "for key in d:\n",
    "    if d[key] == 1:\n",
    "        conv_only.add(key)\n",
    "        \n",
    "with open(\"C:/Users/xiachai/Desktop/KF/noXJ.txt\", 'r') as fn_in3:\n",
    "    for line in fn_in3.readlines():\n",
    "        v = line.strip().split('|')    \n",
    "        if v[0] not in conv_only:\n",
    "            print >> fn_out2, '%s' % (line.strip())\n",
    "            \n",
    "        "
   ]
  },
  {
   "cell_type": "code",
   "execution_count": 16,
   "metadata": {
    "collapsed": false
   },
   "outputs": [
    {
     "data": {
      "text/html": [
       "<div>\n",
       "<table border=\"1\" class=\"dataframe\">\n",
       "  <thead>\n",
       "    <tr style=\"text-align: right;\">\n",
       "      <th></th>\n",
       "      <th>id</th>\n",
       "      <th>timestamp</th>\n",
       "      <th>conv_flag</th>\n",
       "      <th>event_type</th>\n",
       "      <th>pub</th>\n",
       "      <th>tactic</th>\n",
       "      <th>campaign_type</th>\n",
       "    </tr>\n",
       "  </thead>\n",
       "  <tbody>\n",
       "    <tr>\n",
       "      <th>0</th>\n",
       "      <td>2588</td>\n",
       "      <td>2016-02-18 10:23:01</td>\n",
       "      <td>NaN</td>\n",
       "      <td>I</td>\n",
       "      <td>AO</td>\n",
       "      <td>PRD</td>\n",
       "      <td>D</td>\n",
       "    </tr>\n",
       "    <tr>\n",
       "      <th>1</th>\n",
       "      <td>2588</td>\n",
       "      <td>2016-02-24 10:04:04</td>\n",
       "      <td>NaN</td>\n",
       "      <td>I</td>\n",
       "      <td>AO</td>\n",
       "      <td>PRD</td>\n",
       "      <td>D</td>\n",
       "    </tr>\n",
       "    <tr>\n",
       "      <th>2</th>\n",
       "      <td>2588</td>\n",
       "      <td>2016-03-01 10:57:22</td>\n",
       "      <td>NaN</td>\n",
       "      <td>I</td>\n",
       "      <td>AO</td>\n",
       "      <td>PRD</td>\n",
       "      <td>D</td>\n",
       "    </tr>\n",
       "    <tr>\n",
       "      <th>3</th>\n",
       "      <td>2588</td>\n",
       "      <td>2016-03-05 13:54:59</td>\n",
       "      <td>1</td>\n",
       "      <td>P</td>\n",
       "      <td>NaN</td>\n",
       "      <td>NaN</td>\n",
       "      <td>NaN</td>\n",
       "    </tr>\n",
       "    <tr>\n",
       "      <th>4</th>\n",
       "      <td>2940</td>\n",
       "      <td>2016-02-16 08:24:16</td>\n",
       "      <td>NaN</td>\n",
       "      <td>I</td>\n",
       "      <td>T1</td>\n",
       "      <td>PBT</td>\n",
       "      <td>W</td>\n",
       "    </tr>\n",
       "  </tbody>\n",
       "</table>\n",
       "</div>"
      ],
      "text/plain": [
       "     id           timestamp  conv_flag event_type  pub tactic campaign_type\n",
       "0  2588 2016-02-18 10:23:01        NaN          I   AO    PRD             D\n",
       "1  2588 2016-02-24 10:04:04        NaN          I   AO    PRD             D\n",
       "2  2588 2016-03-01 10:57:22        NaN          I   AO    PRD             D\n",
       "3  2588 2016-03-05 13:54:59          1          P  NaN    NaN           NaN\n",
       "4  2940 2016-02-16 08:24:16        NaN          I   T1    PBT             W"
      ]
     },
     "execution_count": 16,
     "metadata": {},
     "output_type": "execute_result"
    }
   ],
   "source": [
    "#read file in pandas, reformat timestamp\n",
    "fn_in4 = open(\"C:/Users/xiachai/Desktop/KF/event_file_time.txt\", 'r')\n",
    "data = pd.read_table(fn_in4, delimiter = '|', names = ['id','timestamp','conv_flag','event_type','pub','tactic','campaign_type'])\n",
    "data['timestamp'] = pd.to_datetime(data['timestamp'].apply(str), format='%Y%m%d%H%M%S')"
   ]
  },
  {
   "cell_type": "code",
   "execution_count": 6,
   "metadata": {
    "collapsed": false
   },
   "outputs": [],
   "source": [
    "#last touch point to conversion\n",
    "ltp_conv = data.groupby('id').tail(2).reset_index(drop=True)\n",
    "\n",
    "ltp_conv['delta_time'] = ltp_conv.groupby('id')['timestamp'].diff()\n",
    "ltp_conv['delta_time_sec']=ltp_conv['delta_time'] / np.timedelta64(1, 's')\n",
    "\n",
    "fn_out3 = open(\"C:/Users/xiachai/Desktop/KF/KF_lasttp_conv.txt\",'w')\n",
    "ltp_conv.to_csv(fn_out3, sep='|',index=False, header=['user_ID','timestamp','converter_flag','event_type','publisher','tactic','campaign_type','delta_time','delta_time_sec'])\n",
    "fn_out3.close()"
   ]
  },
  {
   "cell_type": "code",
   "execution_count": 13,
   "metadata": {
    "collapsed": false
   },
   "outputs": [
    {
     "data": {
      "text/html": [
       "<div>\n",
       "<table border=\"1\" class=\"dataframe\">\n",
       "  <thead>\n",
       "    <tr style=\"text-align: right;\">\n",
       "      <th></th>\n",
       "      <th>id</th>\n",
       "      <th>timestamp</th>\n",
       "    </tr>\n",
       "  </thead>\n",
       "  <tbody>\n",
       "    <tr>\n",
       "      <th>0</th>\n",
       "      <td>2588</td>\n",
       "      <td>2016-02-18 10:23:01</td>\n",
       "    </tr>\n",
       "    <tr>\n",
       "      <th>1</th>\n",
       "      <td>2940</td>\n",
       "      <td>2016-02-16 08:24:16</td>\n",
       "    </tr>\n",
       "    <tr>\n",
       "      <th>2</th>\n",
       "      <td>6245_1</td>\n",
       "      <td>2016-01-31 18:44:13</td>\n",
       "    </tr>\n",
       "    <tr>\n",
       "      <th>3</th>\n",
       "      <td>7534</td>\n",
       "      <td>2016-02-02 12:57:39</td>\n",
       "    </tr>\n",
       "    <tr>\n",
       "      <th>4</th>\n",
       "      <td>9802</td>\n",
       "      <td>2016-01-28 09:55:42</td>\n",
       "    </tr>\n",
       "  </tbody>\n",
       "</table>\n",
       "</div>"
      ],
      "text/plain": [
       "       id           timestamp\n",
       "0    2588 2016-02-18 10:23:01\n",
       "1    2940 2016-02-16 08:24:16\n",
       "2  6245_1 2016-01-31 18:44:13\n",
       "3    7534 2016-02-02 12:57:39\n",
       "4    9802 2016-01-28 09:55:42"
      ]
     },
     "execution_count": 13,
     "metadata": {},
     "output_type": "execute_result"
    }
   ],
   "source": [
    "#keep first touch point or each id, drop unuseful columns\n",
    "top = data.groupby('id').head(1).reset_index(drop = True).drop([\"conv_flag\",\"event_type\",\"pub\",\"tactic\",\"campaign_type\"],axis = 1)\n",
    "top.head()"
   ]
  },
  {
   "cell_type": "code",
   "execution_count": 14,
   "metadata": {
    "collapsed": false
   },
   "outputs": [
    {
     "data": {
      "text/html": [
       "<div>\n",
       "<table border=\"1\" class=\"dataframe\">\n",
       "  <thead>\n",
       "    <tr style=\"text-align: right;\">\n",
       "      <th></th>\n",
       "      <th>id</th>\n",
       "      <th>timestamp</th>\n",
       "      <th>conv_flag</th>\n",
       "    </tr>\n",
       "  </thead>\n",
       "  <tbody>\n",
       "    <tr>\n",
       "      <th>0</th>\n",
       "      <td>2588</td>\n",
       "      <td>2016-03-05 13:54:59</td>\n",
       "      <td>1</td>\n",
       "    </tr>\n",
       "    <tr>\n",
       "      <th>1</th>\n",
       "      <td>2940</td>\n",
       "      <td>2016-02-19 13:28:59</td>\n",
       "      <td>1</td>\n",
       "    </tr>\n",
       "    <tr>\n",
       "      <th>2</th>\n",
       "      <td>6245_1</td>\n",
       "      <td>2016-02-27 17:01:59</td>\n",
       "      <td>1</td>\n",
       "    </tr>\n",
       "    <tr>\n",
       "      <th>3</th>\n",
       "      <td>7534</td>\n",
       "      <td>2016-02-05 16:49:59</td>\n",
       "      <td>1</td>\n",
       "    </tr>\n",
       "    <tr>\n",
       "      <th>4</th>\n",
       "      <td>9802</td>\n",
       "      <td>2016-02-21 12:03:59</td>\n",
       "      <td>1</td>\n",
       "    </tr>\n",
       "  </tbody>\n",
       "</table>\n",
       "</div>"
      ],
      "text/plain": [
       "       id           timestamp  conv_flag\n",
       "0    2588 2016-03-05 13:54:59          1\n",
       "1    2940 2016-02-19 13:28:59          1\n",
       "2  6245_1 2016-02-27 17:01:59          1\n",
       "3    7534 2016-02-05 16:49:59          1\n",
       "4    9802 2016-02-21 12:03:59          1"
      ]
     },
     "execution_count": 14,
     "metadata": {},
     "output_type": "execute_result"
    }
   ],
   "source": [
    "#keep last touch point for each id, drop unuseful columns\n",
    "bottom = data.groupby('id').tail(1).reset_index(drop = True).drop([\"event_type\",\"pub\",\"tactic\",\"campaign_type\"],axis = 1)\n",
    "bottom.head()"
   ]
  },
  {
   "cell_type": "code",
   "execution_count": 9,
   "metadata": {
    "collapsed": false
   },
   "outputs": [
    {
     "data": {
      "text/html": [
       "<div>\n",
       "<table border=\"1\" class=\"dataframe\">\n",
       "  <thead>\n",
       "    <tr style=\"text-align: right;\">\n",
       "      <th></th>\n",
       "      <th>id</th>\n",
       "      <th>timestamp_x</th>\n",
       "      <th>timestamp_y</th>\n",
       "      <th>conv_flag</th>\n",
       "    </tr>\n",
       "  </thead>\n",
       "  <tbody>\n",
       "    <tr>\n",
       "      <th>0</th>\n",
       "      <td>2588</td>\n",
       "      <td>2016-02-18 10:23:01</td>\n",
       "      <td>2016-03-05 13:54:59</td>\n",
       "      <td>1</td>\n",
       "    </tr>\n",
       "    <tr>\n",
       "      <th>1</th>\n",
       "      <td>2940</td>\n",
       "      <td>2016-02-16 08:24:16</td>\n",
       "      <td>2016-02-19 13:28:59</td>\n",
       "      <td>1</td>\n",
       "    </tr>\n",
       "    <tr>\n",
       "      <th>2</th>\n",
       "      <td>6245_1</td>\n",
       "      <td>2016-01-31 18:44:13</td>\n",
       "      <td>2016-02-27 17:01:59</td>\n",
       "      <td>1</td>\n",
       "    </tr>\n",
       "    <tr>\n",
       "      <th>3</th>\n",
       "      <td>7534</td>\n",
       "      <td>2016-02-02 12:57:39</td>\n",
       "      <td>2016-02-05 16:49:59</td>\n",
       "      <td>1</td>\n",
       "    </tr>\n",
       "    <tr>\n",
       "      <th>4</th>\n",
       "      <td>9802</td>\n",
       "      <td>2016-01-28 09:55:42</td>\n",
       "      <td>2016-02-21 12:03:59</td>\n",
       "      <td>1</td>\n",
       "    </tr>\n",
       "  </tbody>\n",
       "</table>\n",
       "</div>"
      ],
      "text/plain": [
       "       id         timestamp_x         timestamp_y  conv_flag\n",
       "0    2588 2016-02-18 10:23:01 2016-03-05 13:54:59          1\n",
       "1    2940 2016-02-16 08:24:16 2016-02-19 13:28:59          1\n",
       "2  6245_1 2016-01-31 18:44:13 2016-02-27 17:01:59          1\n",
       "3    7534 2016-02-02 12:57:39 2016-02-05 16:49:59          1\n",
       "4    9802 2016-01-28 09:55:42 2016-02-21 12:03:59          1"
      ]
     },
     "execution_count": 9,
     "metadata": {},
     "output_type": "execute_result"
    }
   ],
   "source": [
    "#merge top and bottom on id\n",
    "new_table = pd.merge(top,bottom,on = 'id')\n",
    "new_table.head()"
   ]
  },
  {
   "cell_type": "code",
   "execution_count": 11,
   "metadata": {
    "collapsed": false
   },
   "outputs": [],
   "source": [
    "#calculate time intervals between first touch point and conversion by id, output to a text file\n",
    "new_table['time_delta'] = new_table[\"timestamp_y\"] - new_table[\"timestamp_x\"]\n",
    "new_table['time_delta_sec'] = new_table['time_delta']/ np.timedelta64(1, 's')\n",
    "#new_table.head()\n",
    "new_table.to_csv(\"C:/Users/xiachai/Desktop/KF/KF_firsttp_conv.txt\",sep='|',index=False)"
   ]
  },
  {
   "cell_type": "code",
   "execution_count": null,
   "metadata": {
    "collapsed": true
   },
   "outputs": [],
   "source": []
  }
 ],
 "metadata": {
  "kernelspec": {
   "display_name": "Python 2",
   "language": "python",
   "name": "python2"
  },
  "language_info": {
   "codemirror_mode": {
    "name": "ipython",
    "version": 2
   },
   "file_extension": ".py",
   "mimetype": "text/x-python",
   "name": "python",
   "nbconvert_exporter": "python",
   "pygments_lexer": "ipython2",
   "version": "2.7.11"
  }
 },
 "nbformat": 4,
 "nbformat_minor": 0
}
